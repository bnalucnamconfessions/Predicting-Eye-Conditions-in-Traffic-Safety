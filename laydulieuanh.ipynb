{
 "cells": [
  {
   "cell_type": "code",
   "execution_count": 6,
   "metadata": {},
   "outputs": [
    {
     "name": "stdout",
     "output_type": "stream",
     "text": [
      "Dữ liệu ảnh đã được xử lý và chuyển thành vector 1D:\n",
      "   Pixel1  Pixel2  Pixel3  Pixel4  Pixel5  Pixel6  Pixel7  Pixel8  Pixel9  \\\n",
      "0     171      69      66     160     163     123     117     159     160   \n",
      "\n",
      "   Pixel10  Pixel11  Pixel12  Pixel13  Pixel14  Pixel15  Pixel16  \n",
      "0      156      141      157      159      160      149      154  \n",
      "Đã lưu dữ liệu vào file single_image_data.csv\n"
     ]
    }
   ],
   "source": [
    "import cv2\n",
    "import numpy as np\n",
    "import pandas as pd\n",
    "\n",
    "# Hàm resize ảnh về kích thước 4x4\n",
    "def resize_image(input_path, size=(4, 4)):\n",
    "    image = cv2.imread(input_path, cv2.IMREAD_GRAYSCALE)  # Chuyển ảnh thành grayscale\n",
    "    resized_image = cv2.resize(image, size)  # Resize ảnh về kích thước (4x4)\n",
    "    return resized_image.flatten()  # Chuyển ảnh thành vector 1D\n",
    "\n",
    "# Đường dẫn ảnh cần nhập\n",
    "image_path = r\"C:\\Users\\hoang\\Downloads\\Monco quynh\\Monco quynh\\mat\\Laydulieu\\123456.jpg\"  # Thay đường dẫn ảnh của bạn\n",
    "\n",
    "# Đọc và xử lý ảnh\n",
    "image_data = resize_image(image_path)  # Resize ảnh và chuyển thành vector\n",
    "# Chuyển dữ liệu thành DataFrame (một ảnh sẽ có 16 cột)\n",
    "column_names = [f\"Pixel{i+1}\" for i in range(image_data.shape[0])]  # Tạo tên cột Pixel1, Pixel2, ..., Pixel16\n",
    "df = pd.DataFrame([image_data], columns=column_names)  # Tạo DataFrame từ ảnh\n",
    "\n",
    "# In dữ liệu ảnh đã xử lý\n",
    "print(\"Dữ liệu ảnh đã được xử lý và chuyển thành vector 1D:\")\n",
    "print(df)\n",
    "\n",
    "# Lưu vào file CSV\n",
    "df.to_csv(\"Dulieulaytufile.csv\", index=False)\n",
    "print(\"Đã lưu dữ liệu vào file single_image_data.csv\")\n"
   ]
  }
 ],
 "metadata": {
  "kernelspec": {
   "display_name": "Python 3",
   "language": "python",
   "name": "python3"
  },
  "language_info": {
   "codemirror_mode": {
    "name": "ipython",
    "version": 3
   },
   "file_extension": ".py",
   "mimetype": "text/x-python",
   "name": "python",
   "nbconvert_exporter": "python",
   "pygments_lexer": "ipython3",
   "version": "3.10.11"
  }
 },
 "nbformat": 4,
 "nbformat_minor": 2
}
