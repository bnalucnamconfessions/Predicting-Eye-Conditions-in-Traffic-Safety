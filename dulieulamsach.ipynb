{
 "cells": [
  {
   "cell_type": "code",
   "execution_count": 7,
   "metadata": {},
   "outputs": [
    {
     "name": "stdout",
     "output_type": "stream",
     "text": [
      "Đã lưu dữ liệu vào file eye_data_with_headers.csv với tiêu đề cột\n"
     ]
    }
   ],
   "source": [
    "import cv2\n",
    "import os\n",
    "import numpy as np\n",
    "from sklearn.model_selection import train_test_split\n",
    "from sklearn.linear_model import LogisticRegression\n",
    "from sklearn.metrics import accuracy_score\n",
    "import pandas as pd\n",
    "\n",
    "# Hàm resize ảnh về 8x8\n",
    "def resize_image(input_path, size=(4, 4)):\n",
    "    image = cv2.imread(input_path, cv2.IMREAD_GRAYSCALE)  # Chuyển về grayscale\n",
    "    resized_image = cv2.resize(image, size)\n",
    "    return resized_image.flatten()  # Chuyển thành vector 1D\n",
    "\n",
    "# Thư mục chứa ảnh\n",
    "open_eye_folder = r\"C:\\Users\\hoang\\Downloads\\Monco quynh\\Monco quynh\\mat\\Matmo\"  # Ảnh mắt mở\n",
    "closed_eye_folder = r\"C:\\Users\\hoang\\Downloads\\Monco quynh\\Monco quynh\\mat\\Matnham\"  # Ảnh mắt nhắm\n",
    "\n",
    "# Đọc ảnh và gán nhãn\n",
    "data = []\n",
    "labels = []\n",
    "\n",
    "# Ảnh mắt mở (nhãn 1)\n",
    "for filename in os.listdir(open_eye_folder):\n",
    "    filepath = os.path.join(open_eye_folder, filename)\n",
    "    data.append(resize_image(filepath))  # Resize và thêm vào data\n",
    "    labels.append(1)  # Nhãn 1 cho mắt mở\n",
    "\n",
    "# Ảnh mắt nhắm (nhãn 0)\n",
    "for filename in os.listdir(closed_eye_folder):\n",
    "    filepath = os.path.join(closed_eye_folder, filename)\n",
    "    data.append(resize_image(filepath))  # Resize và thêm vào data\n",
    "    labels.append(0)  # Nhãn 0 cho mắt nhắm\n",
    "\n",
    "# Chuyển thành numpy array\n",
    "data = np.array(data)\n",
    "labels = np.array(labels)\n",
    "\n",
    "# Chuẩn hóa dữ liệu\n",
    "data = data / 255.0  # Chia cho 255 để giá trị pixel nằm trong [0, 1]\n",
    "\n",
    "# Kết hợp dữ liệu và nhãn\n",
    "data_with_labels = np.hstack((data, labels.reshape(-1, 1)))\n",
    "\n",
    "# Tạo danh sách tên cột\n",
    "column_names = [f\"Pixel{i+1}\" for i in range(data.shape[1])]  # Pixel1, Pixel2, ..., Pixel64\n",
    "column_names.append(\"Mat\")  # Cột cuối là Label\n",
    "\n",
    "# Chuyển thành DataFrame\n",
    "df = pd.DataFrame(data_with_labels, columns=column_names)\n",
    "\n",
    "# Lưu thành file CSV\n",
    "df.to_csv(\"datamoi.csv\", index=False)\n",
    "print(\"Đã lưu dữ liệu vào file eye_data_with_headers.csv với tiêu đề cột\")"
   ]
  }
 ],
 "metadata": {
  "kernelspec": {
   "display_name": "Python 3",
   "language": "python",
   "name": "python3"
  },
  "language_info": {
   "codemirror_mode": {
    "name": "ipython",
    "version": 3
   },
   "file_extension": ".py",
   "mimetype": "text/x-python",
   "name": "python",
   "nbconvert_exporter": "python",
   "pygments_lexer": "ipython3",
   "version": "3.10.11"
  }
 },
 "nbformat": 4,
 "nbformat_minor": 2
}
